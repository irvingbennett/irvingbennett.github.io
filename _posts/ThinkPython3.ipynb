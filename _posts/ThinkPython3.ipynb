{
 "cells": [
  {
   "cell_type": "code",
   "execution_count": 2,
   "metadata": {
    "collapsed": false
   },
   "outputs": [],
   "source": [
    "def print_square(size):\n",
    "    plus = \"+\"\n",
    "    dash =\"-\"\n",
    "    bar = \"|\"\n",
    "    side = 5\n",
    "    for i in range(size * side + 1):\n",
    "        if (i % side == 0):\n",
    "            for j in range(size * side + 1):\n",
    "                if (j % side == 0):\n",
    "                    print plus,\n",
    "                else :\n",
    "                    print dash,\n",
    "            print\n",
    "        else :\n",
    "            for j in range(size * side + 1):\n",
    "                if (j % side == 0):\n",
    "                    print bar,\n",
    "                else :\n",
    "                    print \" \",\n",
    "            print\n",
    "        "
   ]
  },
  {
   "cell_type": "code",
   "execution_count": 4,
   "metadata": {
    "collapsed": false
   },
   "outputs": [
    {
     "name": "stdout",
     "output_type": "stream",
     "text": [
      "+ - - - - + - - - - +\n",
      "|         |         |\n",
      "|         |         |\n",
      "|         |         |\n",
      "|         |         |\n",
      "+ - - - - + - - - - +\n",
      "|         |         |\n",
      "|         |         |\n",
      "|         |         |\n",
      "|         |         |\n",
      "+ - - - - + - - - - +\n"
     ]
    }
   ],
   "source": [
    "print_square(2)"
   ]
  },
  {
   "cell_type": "code",
   "execution_count": 5,
   "metadata": {
    "collapsed": false
   },
   "outputs": [
    {
     "name": "stdout",
     "output_type": "stream",
     "text": [
      "(15.00,0.00)\n"
     ]
    }
   ],
   "source": [
    "import turtle\n",
    "turtle.forward(15)\n",
    "print turtle.position()\n"
   ]
  },
  {
   "cell_type": "code",
   "execution_count": 8,
   "metadata": {
    "collapsed": false
   },
   "outputs": [],
   "source": [
    "# Check Fermat - Think Python exercise\n",
    "def check_fermat(a, b, c, n):\n",
    "    if ((a**n + b**n) == c**n):\n",
    "        print \"Fermat was wrong!\"\n",
    "    else:\n",
    "        print \"No, that doesn't work\""
   ]
  },
  {
   "cell_type": "code",
   "execution_count": 10,
   "metadata": {
    "collapsed": false
   },
   "outputs": [
    {
     "name": "stdout",
     "output_type": "stream",
     "text": [
      "Enter a: 1\n",
      "Enter b: 2\n",
      "Enter c: 3\n",
      "Enter n: 4\n",
      "1 2 3 4\n"
     ]
    }
   ],
   "source": [
    "\n",
    "a = raw_input(\"Enter a: \")\n",
    "b = raw_input(\"Enter b: \")\n",
    "c = raw_input(\"Enter c: \")\n",
    "n = raw_input(\"Enter n: \")\n",
    "\n",
    "print a, b, c, n\n",
    "\n",
    "\n"
   ]
  },
  {
   "cell_type": "code",
   "execution_count": 20,
   "metadata": {
    "collapsed": true
   },
   "outputs": [],
   "source": [
    "def get_number(prompt):\n",
    "    while True:\n",
    "        try:\n",
    "            n = int(raw_input(prompt))\n",
    "            if isinstance(n, int):\n",
    "                return n\n",
    "            else:\n",
    "                pass\n",
    "        except:\n",
    "            print \"Oops! Try again!\"\n",
    "    "
   ]
  },
  {
   "cell_type": "code",
   "execution_count": 26,
   "metadata": {
    "collapsed": false
   },
   "outputs": [],
   "source": [
    "def AskNumbers():\n",
    "    a = get_number(\"Enter a: \")\n",
    "    b = get_number(\"Enter b: \")\n",
    "    c = get_number(\"Enter c: \")\n",
    "    n = get_number(\"Enter n: \")\n",
    "    check_fermat(a, b, c, n)\n"
   ]
  },
  {
   "cell_type": "code",
   "execution_count": 23,
   "metadata": {
    "collapsed": false
   },
   "outputs": [
    {
     "name": "stdout",
     "output_type": "stream",
     "text": [
      "No, that doesn't work\n"
     ]
    }
   ],
   "source": [
    "check_fermat(a, b, c, n)"
   ]
  },
  {
   "cell_type": "code",
   "execution_count": 28,
   "metadata": {
    "collapsed": false
   },
   "outputs": [
    {
     "name": "stdout",
     "output_type": "stream",
     "text": [
      "Enter a: 5\n",
      "Enter b: 7\n",
      "Enter c: 15\n",
      "Enter n: 2\n",
      "No, that doesn't work\n"
     ]
    }
   ],
   "source": [
    "AskNumbers()\n"
   ]
  },
  {
   "cell_type": "code",
   "execution_count": 34,
   "metadata": {
    "collapsed": true
   },
   "outputs": [],
   "source": [
    "def IsTriangle(x, y, z):\n",
    "    l = [x, y, z]\n",
    "    l.sort()\n",
    "    if ((l[0] + l[1]) > l[2]):\n",
    "        return True\n",
    "    else:\n",
    "        return False"
   ]
  },
  {
   "cell_type": "code",
   "execution_count": 37,
   "metadata": {
    "collapsed": false
   },
   "outputs": [
    {
     "name": "stdout",
     "output_type": "stream",
     "text": [
      "True\n"
     ]
    }
   ],
   "source": [
    "print IsTriangle(6, 4, 5)\n"
   ]
  },
  {
   "cell_type": "code",
   "execution_count": 38,
   "metadata": {
    "collapsed": true
   },
   "outputs": [],
   "source": [
    "def get_sticks():\n",
    "    x = get_number(\"Enter stick lenght #1: \")\n",
    "    y = get_number(\"Enter stick lenght #2: \")\n",
    "    z = get_number(\"Enter stick lenght #3: \")\n",
    "    if IsTriangle(x, y, z):\n",
    "        print \"It is a triangle\"\n",
    "    else:\n",
    "        print \"It is not a triangle\""
   ]
  },
  {
   "cell_type": "code",
   "execution_count": 40,
   "metadata": {
    "collapsed": false
   },
   "outputs": [
    {
     "name": "stdout",
     "output_type": "stream",
     "text": [
      "Enter stick lenght #1: 1\n",
      "Enter stick lenght #2: 10\n",
      "Enter stick lenght #3: 20\n",
      "It is not a triangle\n"
     ]
    }
   ],
   "source": [
    "get_sticks()"
   ]
  },
  {
   "cell_type": "code",
   "execution_count": null,
   "metadata": {
    "collapsed": true
   },
   "outputs": [],
   "source": []
  }
 ],
 "metadata": {
  "kernelspec": {
   "display_name": "Python 2",
   "language": "python",
   "name": "python2"
  },
  "language_info": {
   "codemirror_mode": {
    "name": "ipython",
    "version": 2
   },
   "file_extension": ".py",
   "mimetype": "text/x-python",
   "name": "python",
   "nbconvert_exporter": "python",
   "pygments_lexer": "ipython2",
   "version": "2.7.9"
  }
 },
 "nbformat": 4,
 "nbformat_minor": 0
}
